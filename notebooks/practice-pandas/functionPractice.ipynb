{
 "cells": [
  {
   "cell_type": "markdown",
   "metadata": {},
   "source": [
    "harder: create a function that:\n",
    "    takes the search results in input\n",
    "    extract the columns Sequence , Charge , Modification  and save them into a different object peprec_initialise\n",
    "        - can also skip this for now: add a unique ID to each row\n",
    "    returns  peprec_initialise\n",
    "\n",
    "def first_function(search_results):\n",
    "    new_data = search_results\n",
    "    return new_data"
   ]
  },
  {
   "cell_type": "code",
   "execution_count": 1,
   "metadata": {},
   "outputs": [],
   "source": [
    "import pandas as pd"
   ]
  },
  {
   "cell_type": "code",
   "execution_count": 5,
   "metadata": {},
   "outputs": [],
   "source": [
    "def first_function(search_results):\n",
    "    searchResults = pd.read_json(search_results)\n",
    "    peprec_initialise = searchResults.loc[:,['sequence','charge']].drop_duplicates()\n",
    "    peprec_initialise = peprec_initialise.rename(columns={\"sequence\":\"peptide\"})\n",
    "    peprec_initialise[\"spec_id\"] = peprec_initialise.index\n",
    "    peprec_initialise[\"modifications\"] = '-'\n",
    "    peprec_initialise = peprec_initialise.loc[:,['spec_id','modifications','peptide','charge']]\n",
    "    return peprec_initialise"
   ]
  },
  {
   "cell_type": "code",
   "execution_count": 3,
   "metadata": {},
   "outputs": [],
   "source": [
    "peprec_initialise = first_function('../../data/test2_peprec/searchResults.json')"
   ]
  },
  {
   "cell_type": "code",
   "execution_count": 4,
   "metadata": {},
   "outputs": [
    {
     "data": {
      "text/html": [
       "<div>\n",
       "<style scoped>\n",
       "    .dataframe tbody tr th:only-of-type {\n",
       "        vertical-align: middle;\n",
       "    }\n",
       "\n",
       "    .dataframe tbody tr th {\n",
       "        vertical-align: top;\n",
       "    }\n",
       "\n",
       "    .dataframe thead th {\n",
       "        text-align: right;\n",
       "    }\n",
       "</style>\n",
       "<table border=\"1\" class=\"dataframe\">\n",
       "  <thead>\n",
       "    <tr style=\"text-align: right;\">\n",
       "      <th></th>\n",
       "      <th>spec_id</th>\n",
       "      <th>sequence</th>\n",
       "      <th>charge</th>\n",
       "      <th>modifications</th>\n",
       "    </tr>\n",
       "  </thead>\n",
       "  <tbody>\n",
       "    <tr>\n",
       "      <th>0</th>\n",
       "      <td>0</td>\n",
       "      <td>VVSVLTVLHQDWLNGK</td>\n",
       "      <td>2</td>\n",
       "      <td>-</td>\n",
       "    </tr>\n",
       "    <tr>\n",
       "      <th>1</th>\n",
       "      <td>1</td>\n",
       "      <td>SGALTSGVHTFPAVLQSSGLYSLSSVVTVPSSSLGTQTYICNVNHK...</td>\n",
       "      <td>5</td>\n",
       "      <td>-</td>\n",
       "    </tr>\n",
       "    <tr>\n",
       "      <th>2</th>\n",
       "      <td>2</td>\n",
       "      <td>WQQGNVFSCSVMHEALHNHYTQK</td>\n",
       "      <td>2</td>\n",
       "      <td>-</td>\n",
       "    </tr>\n",
       "    <tr>\n",
       "      <th>3</th>\n",
       "      <td>3</td>\n",
       "      <td>VDNALQSGNSQESVTEQDSKDSTYSLSSTLTLSK</td>\n",
       "      <td>3</td>\n",
       "      <td>-</td>\n",
       "    </tr>\n",
       "    <tr>\n",
       "      <th>4</th>\n",
       "      <td>4</td>\n",
       "      <td>SGALTSGVHTFPAVLQSSGLYSLSSVVTVPSSSLGTQTYICNVNHK...</td>\n",
       "      <td>4</td>\n",
       "      <td>-</td>\n",
       "    </tr>\n",
       "    <tr>\n",
       "      <th>...</th>\n",
       "      <td>...</td>\n",
       "      <td>...</td>\n",
       "      <td>...</td>\n",
       "      <td>...</td>\n",
       "    </tr>\n",
       "    <tr>\n",
       "      <th>7261</th>\n",
       "      <td>7261</td>\n",
       "      <td>EEQYNSTYRVVS</td>\n",
       "      <td>2</td>\n",
       "      <td>-</td>\n",
       "    </tr>\n",
       "    <tr>\n",
       "      <th>7262</th>\n",
       "      <td>7262</td>\n",
       "      <td>FNWYVDGVEVHNAKTKPREEQYNSTYRVVSV</td>\n",
       "      <td>4</td>\n",
       "      <td>-</td>\n",
       "    </tr>\n",
       "    <tr>\n",
       "      <th>7268</th>\n",
       "      <td>7268</td>\n",
       "      <td>TKPREEQYNSTYRVVSVLTVLHQDWLNG</td>\n",
       "      <td>5</td>\n",
       "      <td>-</td>\n",
       "    </tr>\n",
       "    <tr>\n",
       "      <th>7269</th>\n",
       "      <td>7269</td>\n",
       "      <td>TKPREEQYNSTYRV</td>\n",
       "      <td>4</td>\n",
       "      <td>-</td>\n",
       "    </tr>\n",
       "    <tr>\n",
       "      <th>7271</th>\n",
       "      <td>7271</td>\n",
       "      <td>EEQYNSTYRV</td>\n",
       "      <td>4</td>\n",
       "      <td>-</td>\n",
       "    </tr>\n",
       "  </tbody>\n",
       "</table>\n",
       "<p>2229 rows × 4 columns</p>\n",
       "</div>"
      ],
      "text/plain": [
       "      spec_id                                           sequence  charge  \\\n",
       "0           0                                   VVSVLTVLHQDWLNGK       2   \n",
       "1           1  SGALTSGVHTFPAVLQSSGLYSLSSVVTVPSSSLGTQTYICNVNHK...       5   \n",
       "2           2                            WQQGNVFSCSVMHEALHNHYTQK       2   \n",
       "3           3                 VDNALQSGNSQESVTEQDSKDSTYSLSSTLTLSK       3   \n",
       "4           4  SGALTSGVHTFPAVLQSSGLYSLSSVVTVPSSSLGTQTYICNVNHK...       4   \n",
       "...       ...                                                ...     ...   \n",
       "7261     7261                                       EEQYNSTYRVVS       2   \n",
       "7262     7262                    FNWYVDGVEVHNAKTKPREEQYNSTYRVVSV       4   \n",
       "7268     7268                       TKPREEQYNSTYRVVSVLTVLHQDWLNG       5   \n",
       "7269     7269                                     TKPREEQYNSTYRV       4   \n",
       "7271     7271                                         EEQYNSTYRV       4   \n",
       "\n",
       "     modifications  \n",
       "0                -  \n",
       "1                -  \n",
       "2                -  \n",
       "3                -  \n",
       "4                -  \n",
       "...            ...  \n",
       "7261             -  \n",
       "7262             -  \n",
       "7268             -  \n",
       "7269             -  \n",
       "7271             -  \n",
       "\n",
       "[2229 rows x 4 columns]"
      ]
     },
     "execution_count": 4,
     "metadata": {},
     "output_type": "execute_result"
    }
   ],
   "source": [
    "peprec_initialise"
   ]
  },
  {
   "cell_type": "code",
   "execution_count": 7,
   "metadata": {},
   "outputs": [],
   "source": [
    "peprec_initialise.to_csv(\"../../data/test2_peprec/searchResults.PEPREC\",sep='\\t', index=False)"
   ]
  },
  {
   "cell_type": "code",
   "execution_count": 6,
   "metadata": {},
   "outputs": [],
   "source": [
    "#Wrapper for first_function\n",
    "\n",
    "def main(searchResults,peprec):\n",
    "    peprec_initialise = first_function(searchResults)\n",
    "    peprec_initialise.to_csv(peprec,sep='\\t', index=False)\n",
    "    return"
   ]
  },
  {
   "cell_type": "code",
   "execution_count": 7,
   "metadata": {},
   "outputs": [],
   "source": [
    "main('../../data/test2_peprec/searchResults.json','../../data/test2_peprec/searchResults.PEPREC')"
   ]
  }
 ],
 "metadata": {
  "interpreter": {
   "hash": "949777d72b0d2535278d3dc13498b2535136f6dfe0678499012e853ee9abcab1"
  },
  "kernelspec": {
   "display_name": "Python 3.8.5 64-bit",
   "language": "python",
   "name": "python3"
  },
  "language_info": {
   "codemirror_mode": {
    "name": "ipython",
    "version": 3
   },
   "file_extension": ".py",
   "mimetype": "text/x-python",
   "name": "python",
   "nbconvert_exporter": "python",
   "pygments_lexer": "ipython3",
   "version": "3.8.5"
  },
  "orig_nbformat": 4
 },
 "nbformat": 4,
 "nbformat_minor": 2
}
