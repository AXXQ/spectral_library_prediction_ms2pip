{
 "cells": [
  {
   "cell_type": "code",
   "execution_count": null,
   "metadata": {},
   "outputs": [],
   "source": [
    "import matplotlib.pyplot as plt\n",
    "import pandas as pd\n",
    "import spectrum_utils.plot as sup\n",
    "import spectrum_utils.spectrum as sus\n",
    "import urllib.parse\n",
    "import pyteomics.mgf as MGF\n",
    "import numpy as np\n",
    "from pyteomics import auxiliary"
   ]
  },
  {
   "cell_type": "code",
   "execution_count": null,
   "metadata": {},
   "outputs": [],
   "source": [
    "#https://pyteomics.readthedocs.io/en/latest/data.html#mgf\n",
    "#  Read the predictions\n",
    "with MGF.read_header('../data/test2_peprec/searchResults_HCD_predictions.mgf') as reader:\n",
    "     auxiliary.print_tree(next(reader))\n"
   ]
  },
  {
   "cell_type": "code",
   "execution_count": null,
   "metadata": {},
   "outputs": [],
   "source": [
    "# Get the spectrum peaks using its USI.\n",
    "usi = 'mzspec:PXD004732:01650b_BC2-TUM_first_pool_53_01_01-3xHCD-1h-R2:scan:41840'\n",
    "peaks = pd.read_csv(\n",
    "    f'https://metabolomics-usi.ucsd.edu/csv/?usi={urllib.parse.quote(usi)}')\n",
    "\n",
    "\n",
    "# Create the MS/MS spectrum.\n",
    "precursor_mz = 718.3600\n",
    "precursor_charge = 2\n",
    "spectrum = sus.MsmsSpectrum(usi, precursor_mz, precursor_charge,\n",
    "                            peaks['mz'].values, peaks['intensity'].values,\n",
    "                            peptide='WNQLQAFWGTGK')\n",
    "\n",
    "# Process the MS/MS spectrum.\n",
    "fragment_tol_mass = 10\n",
    "fragment_tol_mode = 'ppm'\n",
    "spectrum = (spectrum.set_mz_range(min_mz=100, max_mz=1400)\n",
    "            .remove_precursor_peak(fragment_tol_mass, fragment_tol_mode)\n",
    "            .filter_intensity(min_intensity=0.05, max_num_peaks=50)\n",
    "            .scale_intensity('root')\n",
    "            .annotate_peptide_fragments(fragment_tol_mass, fragment_tol_mode,\n",
    "                                        ion_types='aby'))\n",
    "\n",
    "# Plot the MS/MS spectrum.\n",
    "fig, ax = plt.subplots(figsize=(12, 6))\n",
    "sup.spectrum(spectrum, ax=ax)\n",
    "plt.show()\n",
    "plt.close()"
   ]
  },
  {
   "cell_type": "code",
   "execution_count": null,
   "metadata": {},
   "outputs": [],
   "source": [
    "import matplotlib.pyplot as plt\n",
    "import pandas as pd\n",
    "import spectrum_utils.plot as sup\n",
    "import spectrum_utils.spectrum as sus\n",
    "import urllib.parse\n",
    "\n",
    "usi = 'mzspec:PXD004732:01650b_BC2-TUM_first_pool_53_01_01-3xHCD-1h-R2:scan:41840'\n",
    "peaks = pd.read_csv(\n",
    "    f'https://metabolomics-usi.ucsd.edu/csv/?usi={urllib.parse.quote(usi)}')\n",
    "peaks"
   ]
  }
 ],
 "metadata": {
  "interpreter": {
   "hash": "949777d72b0d2535278d3dc13498b2535136f6dfe0678499012e853ee9abcab1"
  },
  "kernelspec": {
   "display_name": "Python 3.8.5 64-bit",
   "language": "python",
   "name": "python3"
  },
  "language_info": {
   "codemirror_mode": {
    "name": "ipython",
    "version": 3
   },
   "file_extension": ".py",
   "mimetype": "text/x-python",
   "name": "python",
   "nbconvert_exporter": "python",
   "pygments_lexer": "ipython3",
   "version": "3.8.5"
  },
  "orig_nbformat": 4
 },
 "nbformat": 4,
 "nbformat_minor": 2
}
