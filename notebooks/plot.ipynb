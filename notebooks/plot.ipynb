{
 "cells": [
  {
   "cell_type": "code",
   "execution_count": null,
   "metadata": {},
   "outputs": [],
   "source": [
    "import csv\n",
    "import pandas as pd\n",
    "import matplotlib.pyplot as plt \n",
    "import plotly.graph_objects as go"
   ]
  },
  {
   "cell_type": "code",
   "execution_count": null,
   "metadata": {},
   "outputs": [],
   "source": [
    "search = pd.read_json(\"../test_data/searchResults.json\")  "
   ]
  },
  {
   "cell_type": "code",
   "execution_count": null,
   "metadata": {},
   "outputs": [],
   "source": [
    "spectra = pd.read_csv ('../test_data/searchResults_HCD_predictions.csv')\n",
    "spectra"
   ]
  },
  {
   "cell_type": "code",
   "execution_count": null,
   "metadata": {},
   "outputs": [],
   "source": [
    "spectra = spectra.set_index('spec_id')\n",
    "spectra"
   ]
  },
  {
   "cell_type": "code",
   "execution_count": null,
   "metadata": {},
   "outputs": [],
   "source": [
    "peptide1 = spectra.loc['0',['ion','mz','prediction']]\n",
    "peptide1 = peptide1.sort_values('mz', ascending=True)\n",
    "peptide1"
   ]
  },
  {
   "cell_type": "code",
   "execution_count": null,
   "metadata": {},
   "outputs": [],
   "source": [
    "#peptide1_range=range(1,len(spectra.index)+1)\n",
    "\n",
    "plt.stem(peptide1['prediction'],markerfmt=' ')\n",
    "#plt.xticks(peptide1_range, peptide1['FragmentMz'])"
   ]
  },
  {
   "cell_type": "code",
   "execution_count": null,
   "metadata": {},
   "outputs": [],
   "source": [
    "_x=peptide1.loc['0','mz'].reset_index(drop=True)\n",
    "_y=peptide1.loc['0','prediction'].reset_index(drop=True)\n",
    "_y\n"
   ]
  },
  {
   "cell_type": "code",
   "execution_count": null,
   "metadata": {},
   "outputs": [],
   "source": [
    "ion_type = peptide1.loc['0','ion'].reset_index(drop=True)\n",
    "ion_type"
   ]
  },
  {
   "cell_type": "code",
   "execution_count": null,
   "metadata": {},
   "outputs": [],
   "source": [
    "def lollipop_plot(_x, _y):\n",
    "    data = [\n",
    "        go.Scatter(\n",
    "            x=_x,\n",
    "            y=_y,\n",
    "            mode='none',\n",
    "            #marker=dict(color='red')\n",
    "        )\n",
    "    ]\n",
    "\n",
    "    layout = go.Layout(\n",
    "        shapes=[dict(\n",
    "            type='line',\n",
    "            xref='x',\n",
    "            yref='y',\n",
    "            x0=_x[i],\n",
    "            y0=0,\n",
    "            x1=_x[i],\n",
    "            y1=_y[i],\n",
    "            line=dict(\n",
    "                color='red',\n",
    "                width=1\n",
    "            )\n",
    "        ) for i in range(len(_x))],\n",
    "        title='Centroid Peaks'\n",
    "    )\n",
    "\n",
    "    fig = go.Figure(data, layout)\n",
    "    return(fig)\n",
    "\n",
    "fig=lollipop_plot(_x, _y)\n",
    "fig"
   ]
  },
  {
   "cell_type": "code",
   "execution_count": null,
   "metadata": {},
   "outputs": [],
   "source": [
    "pip install seaborn"
   ]
  },
  {
   "cell_type": "code",
   "execution_count": null,
   "metadata": {},
   "outputs": [],
   "source": [
    "# libraries\n",
    "import matplotlib.pyplot as plt\n",
    "import numpy as np\n",
    "import seaborn as sns\n",
    " \n",
    "# Data\n",
    "#x = np.linspace(0, 2*np.pi, 100)\n",
    "#y = np.sin(x) + np.random.uniform(size=len(x)) - 0.2\n",
    "\n",
    "x=_x\n",
    "y=_y\n",
    "\n",
    "# Create a color if the y axis value is equal or greater than 0\n",
    "my_color = np.where(ion_type=='B', 'orange', 'skyblue')\n",
    " \n",
    "# The vertical plot is made using the vline function\n",
    "plt.vlines(x=x, ymin=0, ymax=y, color=my_color, alpha=0.4)\n",
    "plt.scatter(x, y, color=my_color, s=1, alpha=1)\n",
    " \n",
    "# Add title and axis names\n",
    "plt.title(\"peptide (Spec ID: 0)\", loc='left')\n",
    "plt.xlabel('m/z')\n",
    "plt.ylabel('intensity')\n",
    "\n",
    "# Show the graph\n",
    "plt.show()"
   ]
  },
  {
   "cell_type": "code",
   "execution_count": null,
   "metadata": {},
   "outputs": [],
   "source": []
  },
  {
   "cell_type": "code",
   "execution_count": 3,
   "metadata": {},
   "outputs": [
    {
     "ename": "ModuleNotFoundError",
     "evalue": "No module named 'md_spectral_prediction'",
     "output_type": "error",
     "traceback": [
      "\u001b[1;31m---------------------------------------------------------------------------\u001b[0m",
      "\u001b[1;31mModuleNotFoundError\u001b[0m                       Traceback (most recent call last)",
      "\u001b[1;32mc:\\Users\\ari\\spectral_library_prediction_ms2pip\\notebooks\\plot.ipynb Cell 13'\u001b[0m in \u001b[0;36m<cell line: 1>\u001b[1;34m()\u001b[0m\n\u001b[1;32m----> <a href='vscode-notebook-cell:/c%3A/Users/ari/spectral_library_prediction_ms2pip/notebooks/plot.ipynb#ch0000012?line=0'>1</a>\u001b[0m \u001b[39mfrom\u001b[39;00m \u001b[39mmd_spectral_prediction\u001b[39;00m\u001b[39m.\u001b[39;00m\u001b[39mread_and_plot_peptide\u001b[39;00m \u001b[39mimport\u001b[39;00m select_peptide, main\n\u001b[0;32m      <a href='vscode-notebook-cell:/c%3A/Users/ari/spectral_library_prediction_ms2pip/notebooks/plot.ipynb#ch0000012?line=1'>2</a>\u001b[0m \u001b[39mimport\u001b[39;00m \u001b[39mos\u001b[39;00m\n",
      "\u001b[1;31mModuleNotFoundError\u001b[0m: No module named 'md_spectral_prediction'"
     ]
    }
   ],
   "source": [
    "from md_spectral_prediction.read_and_plot_peptide import select_peptide, main\n",
    "import os"
   ]
  },
  {
   "cell_type": "code",
   "execution_count": null,
   "metadata": {},
   "outputs": [],
   "source": [
    "spec_id = '0'\n",
    "path = \"test_data/searchResults_HCD_predictions.csv\""
   ]
  },
  {
   "cell_type": "code",
   "execution_count": null,
   "metadata": {},
   "outputs": [],
   "source": [
    "main(path, spec_id)"
   ]
  }
 ],
 "metadata": {
  "interpreter": {
   "hash": "b823a1ab4e6de07609c319e35ae2c46ee64cf876233e0e6ebdb43976b3f127ef"
  },
  "kernelspec": {
   "display_name": "Python 3.10.2 64-bit ('speclib': conda)",
   "language": "python",
   "name": "python3"
  },
  "language_info": {
   "codemirror_mode": {
    "name": "ipython",
    "version": 3
   },
   "file_extension": ".py",
   "mimetype": "text/x-python",
   "name": "python",
   "nbconvert_exporter": "python",
   "pygments_lexer": "ipython3",
   "version": "3.9.1"
  },
  "orig_nbformat": 4
 },
 "nbformat": 4,
 "nbformat_minor": 2
}
